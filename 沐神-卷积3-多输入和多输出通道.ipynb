{
 "cells": [
  {
   "cell_type": "markdown",
   "id": "20dfeeee",
   "metadata": {},
   "source": [
    "# 多输入和多输出通道\n",
    "---"
   ]
  },
  {
   "cell_type": "markdown",
   "id": "b339b5d2",
   "metadata": {},
   "source": [
    "## 实现一下`多输入通道`互相关运算"
   ]
  },
  {
   "cell_type": "code",
   "execution_count": 5,
   "id": "a35936c4",
   "metadata": {},
   "outputs": [],
   "source": [
    "import torch\n",
    "from d2l import torch as d2l\n",
    "\n",
    "def corr2d_multi_in(X, K):\n",
    "    return sum(d2l.corr2d(x, k) for x, k in zip(X, K))"
   ]
  },
  {
   "cell_type": "markdown",
   "id": "ad3ec876",
   "metadata": {},
   "source": [
    "## 下面验证互相关运算的输出"
   ]
  },
  {
   "cell_type": "code",
   "execution_count": 6,
   "id": "465ecbf5",
   "metadata": {},
   "outputs": [
    {
     "data": {
      "text/plain": [
       "tensor([[ 56.,  72.],\n",
       "        [104., 120.]])"
      ]
     },
     "execution_count": 6,
     "metadata": {},
     "output_type": "execute_result"
    }
   ],
   "source": [
    "X = torch.tensor([[[0.0, 1.0, 2.0], [3.0, 4.0, 5.0], [6.0, 7.0, 8.0]],\n",
    "                  [[1.0, 2.0, 3.0], [4.0, 5.0, 6.0], [7.0, 8.0, 9.0]]])\n",
    "K = torch.tensor([[[0.0, 1.0], [2.0, 3.0]],[[1.0, 2.0],[3.0, 4.0]]])                  \n",
    "                  \n",
    "corr2d_multi_in(X, K)                  \n",
    "\n",
    "# 对应slides中的计算"
   ]
  },
  {
   "cell_type": "markdown",
   "id": "7fb64a8f",
   "metadata": {},
   "source": [
    "## 计算多个通道的输出的互相关函数"
   ]
  },
  {
   "cell_type": "code",
   "execution_count": 7,
   "id": "ec06131e",
   "metadata": {},
   "outputs": [
    {
     "data": {
      "text/plain": [
       "torch.Size([3, 2, 2, 2])"
      ]
     },
     "execution_count": 7,
     "metadata": {},
     "output_type": "execute_result"
    }
   ],
   "source": [
    "def corr2d_multi_out(X, K):\n",
    "    return torch.stack([corr2d_multi_in(X, k) for k in K], 0)\n",
    "\n",
    "K = torch.stack((K, K+1, K+2), 0)\n",
    "K.shape"
   ]
  },
  {
   "cell_type": "code",
   "execution_count": 8,
   "id": "b7c2112e",
   "metadata": {},
   "outputs": [
    {
     "data": {
      "text/plain": [
       "tensor([[[ 56.,  72.],\n",
       "         [104., 120.]],\n",
       "\n",
       "        [[ 76., 100.],\n",
       "         [148., 172.]],\n",
       "\n",
       "        [[ 96., 128.],\n",
       "         [192., 224.]]])"
      ]
     },
     "execution_count": 8,
     "metadata": {},
     "output_type": "execute_result"
    }
   ],
   "source": [
    "corr2d_multi_out(X, K)"
   ]
  },
  {
   "cell_type": "markdown",
   "id": "c47e665d",
   "metadata": {},
   "source": [
    "## 1*1卷积 等价于一个全连接"
   ]
  },
  {
   "cell_type": "code",
   "execution_count": 10,
   "id": "b7c9a55a",
   "metadata": {},
   "outputs": [],
   "source": [
    "def corr2d_multi_in_out_1_1(X, K):\n",
    "    c_i, h, w = X.shape\n",
    "    c_o = K.shape[0]\n",
    "    X = X.reshape((c_i, h*w))\n",
    "    K = K.reshape((c_o, c_i))\n",
    "    Y = torch.matmul(K, X)\n",
    "    return Y.reshape((c_o, h, w))\n",
    "\n",
    "X = torch.normal(0, 1, (3, 3, 3))\n",
    "K = torch.normal(0, 1, (2, 3, 1, 1))\n",
    "\n",
    "Y1 = corr2d_multi_in_out_1_1(X, K)\n",
    "Y2 = corr2d_multi_out(X, K)\n",
    "assert float(torch.abs(Y1 - Y2).sum()) < 1e-6"
   ]
  },
  {
   "cell_type": "markdown",
   "id": "640a5862",
   "metadata": {},
   "source": [
    "----\n",
    "每个通道的卷积核（权重）是不一样的<br>\n",
    "不同通道大小的卷积`核大小`是一样的"
   ]
  },
  {
   "cell_type": "code",
   "execution_count": null,
   "id": "9397a444",
   "metadata": {},
   "outputs": [],
   "source": []
  }
 ],
 "metadata": {
  "kernelspec": {
   "display_name": "Python 3 (ipykernel)",
   "language": "python",
   "name": "python3"
  },
  "language_info": {
   "codemirror_mode": {
    "name": "ipython",
    "version": 3
   },
   "file_extension": ".py",
   "mimetype": "text/x-python",
   "name": "python",
   "nbconvert_exporter": "python",
   "pygments_lexer": "ipython3",
   "version": "3.8.5"
  }
 },
 "nbformat": 4,
 "nbformat_minor": 5
}
