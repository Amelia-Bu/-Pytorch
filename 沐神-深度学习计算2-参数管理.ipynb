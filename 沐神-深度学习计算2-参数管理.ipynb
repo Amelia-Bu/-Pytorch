{
 "cells": [
  {
   "cell_type": "markdown",
   "id": "1f6572fa",
   "metadata": {},
   "source": [
    "# 参数管理\n",
    "---"
   ]
  },
  {
   "cell_type": "markdown",
   "id": "d224ef0d",
   "metadata": {},
   "source": [
    "## 单隐藏层的多层感知机"
   ]
  },
  {
   "cell_type": "code",
   "execution_count": 1,
   "id": "7a23d288",
   "metadata": {},
   "outputs": [
    {
     "data": {
      "text/plain": [
       "tensor([[0.2536],\n",
       "        [0.2321]], grad_fn=<AddmmBackward0>)"
      ]
     },
     "execution_count": 1,
     "metadata": {},
     "output_type": "execute_result"
    }
   ],
   "source": [
    "import torch\n",
    "from torch import nn\n",
    "\n",
    "net = nn.Sequential(nn.Linear(4, 8), nn.ReLU(), nn.Linear(8, 1))\n",
    "X = torch.rand(size=(2, 4))\n",
    "net(X)"
   ]
  },
  {
   "cell_type": "markdown",
   "id": "67e0ac2d",
   "metadata": {},
   "source": [
    "## 参数访问"
   ]
  },
  {
   "cell_type": "code",
   "execution_count": 4,
   "id": "48f41bd5",
   "metadata": {},
   "outputs": [
    {
     "name": "stdout",
     "output_type": "stream",
     "text": [
      "tensor([[0.0585, 0.6048, 0.1910, 0.0395],\n",
      "        [0.8710, 0.8803, 0.0514, 0.5969]])\n",
      "OrderedDict([('weight', tensor([[ 0.2548,  0.1707,  0.1765, -0.1320],\n",
      "        [-0.2513,  0.1520, -0.0352, -0.2049],\n",
      "        [-0.4581, -0.2734, -0.4541,  0.3457],\n",
      "        [ 0.4383, -0.2384,  0.1046, -0.2610],\n",
      "        [ 0.0458,  0.1905, -0.4578, -0.0808],\n",
      "        [ 0.4440, -0.2033, -0.1551,  0.1538],\n",
      "        [-0.1463, -0.1766,  0.3476, -0.2831],\n",
      "        [ 0.3537, -0.4390,  0.3516, -0.1943]])), ('bias', tensor([-0.2663, -0.4552, -0.3195,  0.0531,  0.0972, -0.4190,  0.1240, -0.1059]))])\n",
      "OrderedDict()\n",
      "OrderedDict([('weight', tensor([[-0.0378, -0.1843, -0.1461,  0.0017, -0.2036,  0.1632, -0.0296, -0.3493]])), ('bias', tensor([0.2808]))])\n"
     ]
    }
   ],
   "source": [
    "print(X)\n",
    "print(net[0].state_dict())\n",
    "print(net[1].state_dict())\n",
    "print(net[2].state_dict())# 这里访问的最后一层是8 * 1.参数有weight 和 bias\n",
    "#Sequential容器里面放着三个层\n",
    "#【0】nn.Linear(4, 8),\n",
    "#【1】nn.ReLU(), \n",
    "#【2】nn.Linear(8, 1)\n",
    "\n",
    "'''这里输出的nn.Linear（4,8）的形状是默认转置了的即输出的是8*4'''"
   ]
  },
  {
   "cell_type": "markdown",
   "id": "da47a095",
   "metadata": {},
   "source": [
    "## 目标参数"
   ]
  },
  {
   "cell_type": "code",
   "execution_count": 5,
   "id": "fdbd6ded",
   "metadata": {},
   "outputs": [
    {
     "name": "stdout",
     "output_type": "stream",
     "text": [
      "<class 'torch.nn.parameter.Parameter'>\n",
      "Parameter containing:\n",
      "tensor([0.2808], requires_grad=True)\n",
      "tensor([0.2808])\n"
     ]
    }
   ],
   "source": [
    "print(type(net[2].bias))\n",
    "print(net[2].bias)\n",
    "print(net[2].bias.data)#访问到值"
   ]
  },
  {
   "cell_type": "code",
   "execution_count": 6,
   "id": "8bf55878",
   "metadata": {},
   "outputs": [
    {
     "data": {
      "text/plain": [
       "True"
      ]
     },
     "execution_count": 6,
     "metadata": {},
     "output_type": "execute_result"
    }
   ],
   "source": [
    "net[2].weight.grad == None\n",
    "# 因为这里没有进行训练，所以梯度为None"
   ]
  },
  {
   "cell_type": "markdown",
   "id": "8aa99151",
   "metadata": {},
   "source": [
    "## 一次性访问所有参数\n"
   ]
  },
  {
   "cell_type": "code",
   "execution_count": 9,
   "id": "a5fbbdcc",
   "metadata": {},
   "outputs": [
    {
     "name": "stdout",
     "output_type": "stream",
     "text": [
      "('weight', torch.Size([8, 4])) ('bias', torch.Size([8]))\n",
      "('0.weight', torch.Size([8, 4])) ('0.bias', torch.Size([8])) ('2.weight', torch.Size([1, 8])) ('2.bias', torch.Size([1]))\n"
     ]
    }
   ],
   "source": [
    "print(*[(name, param.shape) for name, param in net[0].named_parameters()])\n",
    "print(*[(name, param.shape) for name, param in net.named_parameters()])\n",
    "# 0 1 2\n",
    "#1 是ReLU层没有参数，所以拿不出来"
   ]
  },
  {
   "cell_type": "code",
   "execution_count": 10,
   "id": "3c914f26",
   "metadata": {},
   "outputs": [
    {
     "data": {
      "text/plain": [
       "tensor([0.2808])"
      ]
     },
     "execution_count": 10,
     "metadata": {},
     "output_type": "execute_result"
    }
   ],
   "source": [
    "net.state_dict()['2.bias'].data"
   ]
  },
  {
   "cell_type": "markdown",
   "id": "632cc368",
   "metadata": {},
   "source": [
    "## 从嵌套块收集参数\n"
   ]
  },
  {
   "cell_type": "code",
   "execution_count": 11,
   "id": "867fc926",
   "metadata": {},
   "outputs": [
    {
     "data": {
      "text/plain": [
       "tensor([[0.3835],\n",
       "        [0.3832]], grad_fn=<AddmmBackward0>)"
      ]
     },
     "execution_count": 11,
     "metadata": {},
     "output_type": "execute_result"
    }
   ],
   "source": [
    "def block1():\n",
    "    return nn.Sequential(nn.Linear(4, 8), nn.ReLU(), nn.Linear(8, 4))\n",
    "\n",
    "def block2():\n",
    "    net = nn.Sequential()\n",
    "    for i in range(4):\n",
    "        net.add_module(f'block {i}', block1()) #给一个名字而已啦\n",
    "    return net\n",
    "\n",
    "rgnet = nn.Sequential(block2(), nn.Linear(4, 1))\n",
    "rgnet(X)\n"
   ]
  },
  {
   "cell_type": "code",
   "execution_count": 12,
   "id": "8b90631a",
   "metadata": {},
   "outputs": [
    {
     "name": "stdout",
     "output_type": "stream",
     "text": [
      "Sequential(\n",
      "  (0): Sequential(\n",
      "    (block 0): Sequential(\n",
      "      (0): Linear(in_features=4, out_features=8, bias=True)\n",
      "      (1): ReLU()\n",
      "      (2): Linear(in_features=8, out_features=4, bias=True)\n",
      "    )\n",
      "    (block 1): Sequential(\n",
      "      (0): Linear(in_features=4, out_features=8, bias=True)\n",
      "      (1): ReLU()\n",
      "      (2): Linear(in_features=8, out_features=4, bias=True)\n",
      "    )\n",
      "    (block 2): Sequential(\n",
      "      (0): Linear(in_features=4, out_features=8, bias=True)\n",
      "      (1): ReLU()\n",
      "      (2): Linear(in_features=8, out_features=4, bias=True)\n",
      "    )\n",
      "    (block 3): Sequential(\n",
      "      (0): Linear(in_features=4, out_features=8, bias=True)\n",
      "      (1): ReLU()\n",
      "      (2): Linear(in_features=8, out_features=4, bias=True)\n",
      "    )\n",
      "  )\n",
      "  (1): Linear(in_features=4, out_features=1, bias=True)\n",
      ")\n"
     ]
    }
   ],
   "source": [
    "print(rgnet)"
   ]
  },
  {
   "cell_type": "markdown",
   "id": "bcf6f7b4",
   "metadata": {},
   "source": [
    "## 内置初始化参数"
   ]
  },
  {
   "cell_type": "code",
   "execution_count": 14,
   "id": "0b94689b",
   "metadata": {},
   "outputs": [
    {
     "data": {
      "text/plain": [
       "(tensor([ 0.0012,  0.0106,  0.0006, -0.0044]), tensor(0.))"
      ]
     },
     "execution_count": 14,
     "metadata": {},
     "output_type": "execute_result"
    }
   ],
   "source": [
    "def init_normal(m):\n",
    "    if type(m) == nn.Linear:\n",
    "        nn.init.normal_(m.weight, mean=0, std=0.01)#这种带后下划线的是一种置换函数\n",
    "        nn.init.zeros_(m.bias)\n",
    "\n",
    "net.apply(init_normal)\n",
    "net[0].weight.data[0],net[0].bias.data[0]"
   ]
  },
  {
   "cell_type": "code",
   "execution_count": 15,
   "id": "fef400d8",
   "metadata": {},
   "outputs": [
    {
     "data": {
      "text/plain": [
       "(tensor([1., 1., 1., 1.]), tensor(0.))"
      ]
     },
     "execution_count": 15,
     "metadata": {},
     "output_type": "execute_result"
    }
   ],
   "source": [
    "def init_constant(m):\n",
    "    if type(m) == nn.Linear:\n",
    "        nn.init.constant_(m.weight, 1)\n",
    "        nn.init.zeros_(m.bias)\n",
    "\n",
    "net.apply(init_constant)\n",
    "net[0].weight.data[0],net[0].bias.data[0]"
   ]
  },
  {
   "cell_type": "markdown",
   "id": "8b602388",
   "metadata": {},
   "source": [
    "## 对某些块应用不同的初始化方法"
   ]
  },
  {
   "cell_type": "code",
   "execution_count": 17,
   "id": "f95cedc5",
   "metadata": {},
   "outputs": [
    {
     "name": "stdout",
     "output_type": "stream",
     "text": [
      "tensor([-0.1739,  0.0886, -0.0584,  0.1051])\n",
      "tensor([[42., 42., 42., 42., 42., 42., 42., 42.]])\n"
     ]
    }
   ],
   "source": [
    "def xavier(m):\n",
    "    if type(m) == nn.Linear:\n",
    "        nn.init.xavier_uniform_(m.weight)\n",
    "        \n",
    "def init_42(m):\n",
    "    if type(m) == nn.Linear:\n",
    "        nn.init.constant_(m.weight, 42)\n",
    "\n",
    "net[0].apply(xavier)\n",
    "net[2].apply(init_42)\n",
    "print(net[0].weight.data[0])\n",
    "print(net[2].weight.data)"
   ]
  },
  {
   "cell_type": "markdown",
   "id": "fbc1ca68",
   "metadata": {},
   "source": [
    "## 自定义初始化"
   ]
  },
  {
   "cell_type": "code",
   "execution_count": 20,
   "id": "27d23f3a",
   "metadata": {},
   "outputs": [
    {
     "name": "stdout",
     "output_type": "stream",
     "text": [
      "Init weight torch.Size([8, 4])\n",
      "Init weight torch.Size([1, 8])\n"
     ]
    },
    {
     "data": {
      "text/plain": [
       "tensor([[-8.2723, -9.4219,  7.5869,  0.0000],\n",
       "        [-0.0000,  5.7715,  0.0000, -0.0000]], grad_fn=<SliceBackward0>)"
      ]
     },
     "execution_count": 20,
     "metadata": {},
     "output_type": "execute_result"
    }
   ],
   "source": [
    "def my_init(m):\n",
    "    if type(m) == nn.Linear:\n",
    "        print(\n",
    "            'Init',\n",
    "            *[(name, param.shape) for name, param in m.named_parameters()][0])\n",
    "        nn.init.uniform_(m.weight, -10, 10)\n",
    "        m.weight.data *= m.weight.data.abs() >= 5  \n",
    "        #  >= 优先级高于 *=  功能：所以保留权重值大于等于5的，然后把不是的附为0 。\n",
    "        # 先做右边的布尔运算\n",
    "        \n",
    "net.apply(my_init)\n",
    "net[0].weight[:2]\n",
    "        \n",
    "        \n",
    "        "
   ]
  },
  {
   "cell_type": "markdown",
   "id": "4bceaefd",
   "metadata": {},
   "source": [
    "## 直接访问到值做替换"
   ]
  },
  {
   "cell_type": "code",
   "execution_count": 22,
   "id": "61f40aa5",
   "metadata": {},
   "outputs": [
    {
     "data": {
      "text/plain": [
       "tensor([42.0000, -7.4219,  9.5869,  2.0000])"
      ]
     },
     "execution_count": 22,
     "metadata": {},
     "output_type": "execute_result"
    }
   ],
   "source": [
    "net[0].weight.data[:] += 1\n",
    "net[0].weight.data[0, 0] = 42\n",
    "net[0].weight.data[0]"
   ]
  },
  {
   "cell_type": "markdown",
   "id": "f33564f3",
   "metadata": {},
   "source": [
    "## 共享权重 -- 参数绑定\n",
    "如何在不同网络之间共享权重"
   ]
  },
  {
   "cell_type": "code",
   "execution_count": 23,
   "id": "ee635794",
   "metadata": {},
   "outputs": [
    {
     "name": "stdout",
     "output_type": "stream",
     "text": [
      "tensor([True, True, True, True, True, True, True, True])\n",
      "tensor([True, True, True, True, True, True, True, True])\n"
     ]
    }
   ],
   "source": [
    "shared = nn.Linear(8, 8)\n",
    "net = nn.Sequential(nn.Linear(4, 8),nn.ReLU(),shared, nn.ReLU(),shared,\n",
    "                   nn.ReLU(), nn.Linear(8, 1))\n",
    "net(X)\n",
    "print(net[2].weight.data[0] == net[4].weight.data[0])\n",
    "#如果改掉一个权重，另一个也自动会改。因为指向的地址是一样的\n",
    "net[2].weight.data[0, 0] = 100\n",
    "print(net[2].weight.data[0] == net[4].weight.data[0])\n"
   ]
  },
  {
   "cell_type": "code",
   "execution_count": null,
   "id": "bf21281f",
   "metadata": {},
   "outputs": [],
   "source": []
  }
 ],
 "metadata": {
  "kernelspec": {
   "display_name": "Python 3 (ipykernel)",
   "language": "python",
   "name": "python3"
  },
  "language_info": {
   "codemirror_mode": {
    "name": "ipython",
    "version": 3
   },
   "file_extension": ".py",
   "mimetype": "text/x-python",
   "name": "python",
   "nbconvert_exporter": "python",
   "pygments_lexer": "ipython3",
   "version": "3.8.5"
  }
 },
 "nbformat": 4,
 "nbformat_minor": 5
}
