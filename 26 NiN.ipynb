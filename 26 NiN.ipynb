{
 "cells": [
  {
   "cell_type": "markdown",
   "id": "5a927970",
   "metadata": {},
   "source": [
    "# NiN\n",
    "---\n"
   ]
  },
  {
   "cell_type": "markdown",
   "id": "46904ccc",
   "metadata": {},
   "source": [
    "NiN块"
   ]
  },
  {
   "cell_type": "code",
   "execution_count": 2,
   "id": "50409053",
   "metadata": {
    "ExecuteTime": {
     "end_time": "2023-04-06T09:17:10.915400Z",
     "start_time": "2023-04-06T09:17:07.629690Z"
    }
   },
   "outputs": [],
   "source": [
    "import torch\n",
    "from torch import nn\n",
    "from d2l import torch as d2l\n",
    "\n",
    "def nin_block(in_channels, out_channels, kernel_size, strides, padding):\n",
    "    return nn.Sequential(\n",
    "        nn.Conv2d(in_channels, out_channels, kernel_size,strides, padding),nn.ReLU(),\n",
    "        nn.Conv2d(out_channels, out_channels, kernel_size=1), nn.ReLU(),\n",
    "        nn.Conv2d(out_channels, out_channels, kernel_size=1), nn.ReLU()\n",
    "    )"
   ]
  },
  {
   "cell_type": "markdown",
   "id": "9237427d",
   "metadata": {},
   "source": [
    "NiN模型"
   ]
  },
  {
   "cell_type": "code",
   "execution_count": 3,
   "id": "d6b66b63",
   "metadata": {
    "ExecuteTime": {
     "end_time": "2023-04-06T09:27:10.115249Z",
     "start_time": "2023-04-06T09:27:10.070365Z"
    }
   },
   "outputs": [],
   "source": [
    "net = nn.Sequential(\n",
    "    nin_block(1, 96, kernel_size=11, strides=4, padding=0),#54\n",
    "    nn.MaxPool2d(3, stride=2),#26\n",
    "    nin_block(96, 256, kernel_size=5, strides=1, padding=2),#26\n",
    "    nn.MaxPool2d(3, stride=2),#12\n",
    "    nin_block(256, 384, kernel_size=3, strides=1, padding=1),#12\n",
    "    nn.MaxPool2d(3, stride=2), nn.Dropout(0.5),#5\n",
    "    nin_block(384, 10, kernel_size=3, strides=1, padding=1),#5\n",
    "    nn.AdaptiveAvgPool2d((1, 1)),\n",
    "    nn.Flatten()\n",
    "    )"
   ]
  },
  {
   "cell_type": "markdown",
   "id": "6179cd9c",
   "metadata": {},
   "source": [
    "查看每个块的输出形状"
   ]
  },
  {
   "cell_type": "code",
   "execution_count": 4,
   "id": "cc06641c",
   "metadata": {
    "ExecuteTime": {
     "end_time": "2023-04-06T09:29:07.233034Z",
     "start_time": "2023-04-06T09:29:07.159867Z"
    }
   },
   "outputs": [
    {
     "name": "stdout",
     "output_type": "stream",
     "text": [
      "Sequential output shape:\t torch.Size([1, 96, 54, 54])\n",
      "MaxPool2d output shape:\t torch.Size([1, 96, 26, 26])\n",
      "Sequential output shape:\t torch.Size([1, 256, 26, 26])\n",
      "MaxPool2d output shape:\t torch.Size([1, 256, 12, 12])\n",
      "Sequential output shape:\t torch.Size([1, 384, 12, 12])\n",
      "MaxPool2d output shape:\t torch.Size([1, 384, 5, 5])\n",
      "Dropout output shape:\t torch.Size([1, 384, 5, 5])\n",
      "Sequential output shape:\t torch.Size([1, 10, 5, 5])\n",
      "AdaptiveAvgPool2d output shape:\t torch.Size([1, 10, 1, 1])\n",
      "Flatten output shape:\t torch.Size([1, 10])\n"
     ]
    }
   ],
   "source": [
    "X = torch.rand(size=(1, 1, 224, 224))\n",
    "for layer in net:\n",
    "    X = layer(X)\n",
    "    print(layer.__class__.__name__, 'output shape:\\t', X.shape)"
   ]
  },
  {
   "cell_type": "code",
   "execution_count": null,
   "id": "408f4b3b",
   "metadata": {},
   "outputs": [],
   "source": [
    "lr, num_epochs, batch_size = 0.1, 10, 128\n",
    "train_iter, test_iter = d2l.load_data_fashion_mnist(batch_size, resize=224)\n",
    "d2l.train_ch6(net, train_iter, test_iter, num_epochs, lr, d2l.try_gpu())"
   ]
  },
  {
   "cell_type": "markdown",
   "id": "858cfc02",
   "metadata": {},
   "source": [
    "![title](./picture/26NiN.png)"
   ]
  },
  {
   "cell_type": "code",
   "execution_count": null,
   "id": "0e6f789e",
   "metadata": {},
   "outputs": [],
   "source": []
  }
 ],
 "metadata": {
  "kernelspec": {
   "display_name": "jupy_gpu",
   "language": "python",
   "name": "jupy_gpu"
  },
  "language_info": {
   "codemirror_mode": {
    "name": "ipython",
    "version": 3
   },
   "file_extension": ".py",
   "mimetype": "text/x-python",
   "name": "python",
   "nbconvert_exporter": "python",
   "pygments_lexer": "ipython3",
   "version": "3.8.15"
  }
 },
 "nbformat": 4,
 "nbformat_minor": 5
}
