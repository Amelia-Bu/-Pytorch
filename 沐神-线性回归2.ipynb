{
 "cells": [
  {
   "cell_type": "markdown",
   "id": "a2a9256a",
   "metadata": {},
   "source": [
    "# 线性回归的简洁实现 "
   ]
  },
  {
   "cell_type": "markdown",
   "id": "3c86b7e7",
   "metadata": {},
   "source": [
    "---"
   ]
  },
  {
   "cell_type": "markdown",
   "id": "1a3cfce7",
   "metadata": {},
   "source": [
    "## 导包，生成数据"
   ]
  },
  {
   "cell_type": "code",
   "execution_count": 1,
   "id": "a4409310",
   "metadata": {},
   "outputs": [],
   "source": [
    "import numpy as np\n",
    "import torch\n",
    "from torch.utils import data\n",
    "from d2l import torch as d2l\n",
    "\n",
    "true_w = torch.tensor([2, -3.4])\n",
    "true_b = 4.2\n",
    "features, labels = d2l.synthetic_data(true_w, true_b, 1000)"
   ]
  },
  {
   "cell_type": "markdown",
   "id": "6cffdc23",
   "metadata": {},
   "source": [
    "## 调用框架中现有的API来读取数据"
   ]
  },
  {
   "cell_type": "code",
   "execution_count": 2,
   "id": "1bf51856",
   "metadata": {},
   "outputs": [
    {
     "data": {
      "text/plain": [
       "[tensor([[ 0.3271,  0.4994],\n",
       "         [-1.3543,  1.1083],\n",
       "         [-0.2150, -0.9627],\n",
       "         [-1.0403, -0.4282],\n",
       "         [ 0.8348,  0.8511],\n",
       "         [ 0.7433,  1.0709],\n",
       "         [ 1.0247, -0.9685],\n",
       "         [-0.2875, -0.0479],\n",
       "         [-0.2987, -0.7989],\n",
       "         [ 0.8916, -0.1745]]),\n",
       " tensor([[ 3.1539],\n",
       "         [-2.2723],\n",
       "         [ 7.0440],\n",
       "         [ 3.5824],\n",
       "         [ 2.9926],\n",
       "         [ 2.0377],\n",
       "         [ 9.5504],\n",
       "         [ 3.8003],\n",
       "         [ 6.2963],\n",
       "         [ 6.5932]])]"
      ]
     },
     "execution_count": 2,
     "metadata": {},
     "output_type": "execute_result"
    }
   ],
   "source": [
    "def load_array(data_arrays, batch_size, is_train=True):\n",
    "    \"\"\"构造一个PyTorch数据迭代器\"\"\"\n",
    "    dataset = data.TensorDataset(*data_arrays) # * 是元组拆包符\n",
    "    return data.DataLoader(dataset, batch_size, shuffle=is_train)\n",
    "\n",
    "batch_size = 10\n",
    "data_iter = load_array((features, labels), batch_size)\n",
    "\n",
    "next(iter(data_iter))"
   ]
  },
  {
   "cell_type": "markdown",
   "id": "635a0575",
   "metadata": {},
   "source": [
    "## 使用框架的预定义好的层"
   ]
  },
  {
   "cell_type": "code",
   "execution_count": 3,
   "id": "529ae0b3",
   "metadata": {},
   "outputs": [],
   "source": [
    "from torch import nn\n",
    "\n",
    "net = nn.Sequential(nn.Linear(2, 1)) #指定输入输出"
   ]
  },
  {
   "cell_type": "markdown",
   "id": "f5cb7467",
   "metadata": {},
   "source": [
    "## 初始化模型参数"
   ]
  },
  {
   "cell_type": "code",
   "execution_count": 9,
   "id": "874428fb",
   "metadata": {},
   "outputs": [
    {
     "data": {
      "text/plain": [
       "tensor([0.])"
      ]
     },
     "execution_count": 9,
     "metadata": {},
     "output_type": "execute_result"
    }
   ],
   "source": [
    "net[0].weight.data.normal_(0, 0.01)\n",
    "net[0].bias.data.fill_(0)\n"
   ]
  },
  {
   "cell_type": "markdown",
   "id": "ea0e3b56",
   "metadata": {},
   "source": [
    "## 计算均方误差使用的是MSELoss类，也叫作平方L2范数"
   ]
  },
  {
   "cell_type": "code",
   "execution_count": 5,
   "id": "2dbaaed0",
   "metadata": {},
   "outputs": [],
   "source": [
    "loss = nn.MSELoss()"
   ]
  },
  {
   "cell_type": "markdown",
   "id": "da761eda",
   "metadata": {},
   "source": [
    "## 实例化SGD实例"
   ]
  },
  {
   "cell_type": "code",
   "execution_count": 6,
   "id": "d931201b",
   "metadata": {},
   "outputs": [],
   "source": [
    "trainer = torch.optim.SGD(net.parameters(), lr=0.03)"
   ]
  },
  {
   "cell_type": "markdown",
   "id": "43d09a7a",
   "metadata": {},
   "source": [
    "## 训练"
   ]
  },
  {
   "cell_type": "code",
   "execution_count": 7,
   "id": "c10d74c8",
   "metadata": {},
   "outputs": [
    {
     "name": "stdout",
     "output_type": "stream",
     "text": [
      "epoch 1, loss 0.000286\n",
      "epoch 2, loss 0.000101\n",
      "epoch 3, loss 0.000102\n"
     ]
    }
   ],
   "source": [
    "num_epochs = 3\n",
    "for epoch in range(num_epochs):\n",
    "    for X, y in data_iter:\n",
    "        l = loss(net(X) ,y)\n",
    "        trainer.zero_grad()\n",
    "        l.backward()\n",
    "        trainer.step()\n",
    "    l = loss(net(features), labels)\n",
    "    print(f'epoch {epoch + 1}, loss {l:f}')"
   ]
  },
  {
   "cell_type": "code",
   "execution_count": 11,
   "id": "0037c434",
   "metadata": {},
   "outputs": [
    {
     "name": "stdout",
     "output_type": "stream",
     "text": [
      "w的估计误差：tensor([ 1.9890, -3.3938], grad_fn=<SubBackward0>)\n",
      "b的估计误差：tensor([4.2000], grad_fn=<RsubBackward1>)\n"
     ]
    }
   ],
   "source": [
    "print(f'w的估计误差：{true_w - net[0].weight.reshape(true_w.shape)}')\n",
    "print(f'b的估计误差：{true_b - net[0].bias}')"
   ]
  },
  {
   "cell_type": "code",
   "execution_count": null,
   "id": "7bc47ecb",
   "metadata": {},
   "outputs": [],
   "source": []
  }
 ],
 "metadata": {
  "kernelspec": {
   "display_name": "Python 3 (ipykernel)",
   "language": "python",
   "name": "python3"
  },
  "language_info": {
   "codemirror_mode": {
    "name": "ipython",
    "version": 3
   },
   "file_extension": ".py",
   "mimetype": "text/x-python",
   "name": "python",
   "nbconvert_exporter": "python",
   "pygments_lexer": "ipython3",
   "version": "3.8.5"
  }
 },
 "nbformat": 4,
 "nbformat_minor": 5
}
