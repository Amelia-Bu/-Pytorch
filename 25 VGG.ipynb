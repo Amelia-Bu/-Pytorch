{
 "cells": [
  {
   "cell_type": "markdown",
   "id": "d3028401",
   "metadata": {},
   "source": [
    "# 使用块的网络（VGG）\n",
    "---"
   ]
  },
  {
   "cell_type": "markdown",
   "id": "874e45be",
   "metadata": {},
   "source": [
    "VGG块"
   ]
  },
  {
   "cell_type": "code",
   "execution_count": 1,
   "id": "5f8dbd46",
   "metadata": {
    "ExecuteTime": {
     "end_time": "2023-04-06T00:40:14.025831Z",
     "start_time": "2023-04-06T00:40:13.199494Z"
    }
   },
   "outputs": [],
   "source": [
    "import torch\n",
    "from torch import nn\n",
    "from d2l import torch as d2l \n",
    "\n",
    "def vgg_block(num_convs, in_channels, out_channels):\n",
    "    layers = []\n",
    "    for _ in range(num_convs):\n",
    "        layers.append(nn.Conv2d(\n",
    "            in_channels, out_channels, kernel_size=3, padding=1))\n",
    "        layers.append(nn.ReLU())\n",
    "        in_channels = out_channels\n",
    "    layers.append(nn.MaxPool2d(kernel_size=2, stride=2))\n",
    "    return nn.Sequential(*layers)\n",
    "        "
   ]
  },
  {
   "cell_type": "markdown",
   "id": "ab1e445b",
   "metadata": {},
   "source": [
    "VGG网络"
   ]
  },
  {
   "cell_type": "code",
   "execution_count": 2,
   "id": "89d6a490",
   "metadata": {
    "ExecuteTime": {
     "end_time": "2023-04-06T00:48:06.589004Z",
     "start_time": "2023-04-06T00:48:06.023617Z"
    }
   },
   "outputs": [],
   "source": [
    "conv_arch = ((1, 64), (1, 128), (2, 256), (2, 512), (2, 512)) #(卷积层数，输出通道数)\n",
    "\n",
    "def vgg(conv_arch):\n",
    "    conv_blks = []\n",
    "    in_channels = 1\n",
    "    for (num_convs, out_channels) in conv_arch:\n",
    "        conv_blks.append(vgg_block(\n",
    "            num_convs, in_channels, out_channels))\n",
    "        in_channels = out_channels\n",
    "    return nn.Sequential(\n",
    "        *conv_blks, nn.Flatten(),\n",
    "        nn.Linear(out_channels * 7 * 7, 4096), nn.ReLU(),\n",
    "        nn.Dropout(0.5), nn.Linear(4096, 4096), nn.ReLU(),\n",
    "        nn.Dropout(0.5), nn.Linear(4096, 10)\n",
    "    )\n",
    "net = vgg(conv_arch)"
   ]
  },
  {
   "cell_type": "markdown",
   "id": "a141ab93",
   "metadata": {},
   "source": [
    "观察每个层输出的形状"
   ]
  },
  {
   "cell_type": "code",
   "execution_count": 3,
   "id": "16e812ed",
   "metadata": {
    "ExecuteTime": {
     "end_time": "2023-04-06T00:50:24.390852Z",
     "start_time": "2023-04-06T00:50:24.260162Z"
    }
   },
   "outputs": [
    {
     "name": "stdout",
     "output_type": "stream",
     "text": [
      "Sequential out_put shape:\t torch.Size([1, 64, 112, 112])\n",
      "Sequential out_put shape:\t torch.Size([1, 128, 56, 56])\n",
      "Sequential out_put shape:\t torch.Size([1, 256, 28, 28])\n",
      "Sequential out_put shape:\t torch.Size([1, 512, 14, 14])\n",
      "Sequential out_put shape:\t torch.Size([1, 512, 7, 7])\n",
      "Flatten out_put shape:\t torch.Size([1, 25088])\n",
      "Linear out_put shape:\t torch.Size([1, 4096])\n",
      "ReLU out_put shape:\t torch.Size([1, 4096])\n",
      "Dropout out_put shape:\t torch.Size([1, 4096])\n",
      "Linear out_put shape:\t torch.Size([1, 4096])\n",
      "ReLU out_put shape:\t torch.Size([1, 4096])\n",
      "Dropout out_put shape:\t torch.Size([1, 4096])\n",
      "Linear out_put shape:\t torch.Size([1, 10])\n"
     ]
    }
   ],
   "source": [
    "X = torch.randn(size=(1, 1, 224, 224))\n",
    "for blk in net:\n",
    "    X = blk(X)\n",
    "    print(blk.__class__.__name__, 'out_put shape:\\t', X.shape)"
   ]
  },
  {
   "cell_type": "markdown",
   "id": "f3e8061a",
   "metadata": {},
   "source": [
    "由于VGG-11比AlexNet计算量更大，因此我们构造了一个通道数较少的网络"
   ]
  },
  {
   "cell_type": "code",
   "execution_count": 4,
   "id": "9b5514a4",
   "metadata": {
    "ExecuteTime": {
     "end_time": "2023-04-06T00:56:08.346373Z",
     "start_time": "2023-04-06T00:56:08.150094Z"
    }
   },
   "outputs": [],
   "source": [
    "ratio = 4\n",
    "small_conv_arch = [(pair[0], pair[1] // ratio) for pair in conv_arch]\n",
    "net = vgg(small_conv_arch)"
   ]
  },
  {
   "cell_type": "code",
   "execution_count": null,
   "id": "660dfc2e",
   "metadata": {},
   "outputs": [],
   "source": [
    "lr, num_epochs, batch_size = 0.05, 10, 128\n",
    "train_it"
   ]
  }
 ],
 "metadata": {
  "kernelspec": {
   "display_name": "jupy_gpu",
   "language": "python",
   "name": "jupy_gpu"
  },
  "language_info": {
   "codemirror_mode": {
    "name": "ipython",
    "version": 3
   },
   "file_extension": ".py",
   "mimetype": "text/x-python",
   "name": "python",
   "nbconvert_exporter": "python",
   "pygments_lexer": "ipython3",
   "version": "3.8.15"
  }
 },
 "nbformat": 4,
 "nbformat_minor": 5
}
